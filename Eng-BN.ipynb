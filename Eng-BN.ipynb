{
 "cells": [
  {
   "cell_type": "markdown",
   "id": "90152d9e",
   "metadata": {},
   "source": [
    "### Installing Libraries\n"
   ]
  },
  {
   "cell_type": "code",
   "execution_count": 1,
   "id": "f42b6f74",
   "metadata": {},
   "outputs": [],
   "source": [
    "#!pip install progressbar\n",
    "#!pip install googletrans==3.1.0a0\n",
    "#!pip install PyPDF2\n",
    "#!pip install pdfminer"
   ]
  },
  {
   "cell_type": "markdown",
   "id": "5443f4ed",
   "metadata": {},
   "source": [
    "### importing Libraries"
   ]
  },
  {
   "cell_type": "code",
   "execution_count": 2,
   "id": "680c6be8",
   "metadata": {},
   "outputs": [],
   "source": [
    "from googletrans import Translator\n",
    "from progressbar import ProgressBar\n",
    "from pdfminer.pdfinterp import PDFResourceManager, PDFPageInterpreter\n",
    "from pdfminer.converter import TextConverter\n",
    "from pdfminer.layout import LAParams\n",
    "from pdfminer.pdfpage import PDFPage\n",
    "from io import StringIO\n",
    "import time"
   ]
  },
  {
   "cell_type": "code",
   "execution_count": 3,
   "id": "d77ace97",
   "metadata": {},
   "outputs": [],
   "source": [
    "translator = Translator()\n",
    "pbar = ProgressBar()"
   ]
  },
  {
   "cell_type": "markdown",
   "id": "751a9f56",
   "metadata": {},
   "source": [
    "#### Input File Path"
   ]
  },
  {
   "cell_type": "code",
   "execution_count": 4,
   "id": "cb6b2851",
   "metadata": {},
   "outputs": [],
   "source": [
    "input_path = r\"C:\\Users\\Shuvrasankha Paul\\Downloads\\Books\\The Gulag Archipelago (Vintage Classics) Abridged (Aleksandr Solzhenitsyn) (z-lib.org).pdf\""
   ]
  },
  {
   "cell_type": "markdown",
   "id": "2d3721ac",
   "metadata": {},
   "source": [
    "#### Reading pdf file and converting to string"
   ]
  },
  {
   "cell_type": "code",
   "execution_count": 5,
   "id": "9a246ba7",
   "metadata": {},
   "outputs": [
    {
     "name": "stdout",
     "output_type": "stream",
     "text": [
      "File read successful \n"
     ]
    }
   ],
   "source": [
    "rsrcmgr = PDFResourceManager()\n",
    "retstr = StringIO()\n",
    "codec = 'utf-8'\n",
    "laparams = LAParams()\n",
    "device = TextConverter(rsrcmgr, retstr, codec=codec, laparams=laparams)\n",
    "fp = open(input_path, 'rb')\n",
    "interpreter = PDFPageInterpreter(rsrcmgr, device)\n",
    "password = \"\"\n",
    "maxpages = 0\n",
    "caching = True\n",
    "pagenos=set()\n",
    "\n",
    "for page in PDFPage.get_pages(fp, pagenos, maxpages=maxpages, password=password,caching=caching, check_extractable=True):\n",
    "    interpreter.process_page(page)\n",
    "\n",
    "text = retstr.getvalue()\n",
    "\n",
    "fp.close()\n",
    "device.close()\n",
    "retstr.close()\n",
    "\n",
    "print('File read successful ')"
   ]
  },
  {
   "cell_type": "markdown",
   "id": "a229832f",
   "metadata": {},
   "source": [
    "#### Spliting string based on blank lines"
   ]
  },
  {
   "cell_type": "code",
   "execution_count": 6,
   "id": "7b618c0e",
   "metadata": {},
   "outputs": [
    {
     "name": "stdout",
     "output_type": "stream",
     "text": [
      "3541\n"
     ]
    }
   ],
   "source": [
    "lines = text.split(\"\\n\\n\")\n",
    "print(len(lines))"
   ]
  },
  {
   "cell_type": "markdown",
   "id": "8273d45e",
   "metadata": {},
   "source": [
    "#### Doing translation "
   ]
  },
  {
   "cell_type": "code",
   "execution_count": null,
   "id": "949d3c57",
   "metadata": {},
   "outputs": [
    {
     "name": "stderr",
     "output_type": "stream",
     "text": [
      "  0% |                                                                        |\r"
     ]
    },
    {
     "name": "stdout",
     "output_type": "stream",
     "text": [
      "Translating : \n"
     ]
    },
    {
     "name": "stderr",
     "output_type": "stream",
     "text": [
      " 17% |############                                                            |\r"
     ]
    }
   ],
   "source": [
    "trans_lines =[]\n",
    "print('Translating : ')\n",
    "for i in pbar(range(len(lines))):\n",
    "    if lines[i]!='':\n",
    "                time.sleep(0.1)\n",
    "                temp = translator.translate(lines[i], dest='bn')\n",
    "                trans_lines.append(temp.text)"
   ]
  },
  {
   "cell_type": "markdown",
   "id": "f0ea137a",
   "metadata": {},
   "source": [
    "#### Joining List"
   ]
  },
  {
   "cell_type": "code",
   "execution_count": null,
   "id": "12ac6c9d",
   "metadata": {},
   "outputs": [],
   "source": [
    "translated_text = ('\\n\\n'.join(trans_lines))"
   ]
  },
  {
   "cell_type": "markdown",
   "id": "4051084b",
   "metadata": {},
   "source": [
    "#### Output Path"
   ]
  },
  {
   "cell_type": "code",
   "execution_count": null,
   "id": "b2e5c82b",
   "metadata": {},
   "outputs": [],
   "source": [
    "output_path = input_path.replace(\"pdf\", \"txt\")"
   ]
  },
  {
   "cell_type": "markdown",
   "id": "2b499454",
   "metadata": {},
   "source": [
    "#### Saving Translated result as Text File"
   ]
  },
  {
   "cell_type": "code",
   "execution_count": null,
   "id": "abf1657e",
   "metadata": {},
   "outputs": [],
   "source": [
    "with open(output_path, 'w', encoding='utf-8') as f:\n",
    "    f.write(translated_text)\n",
    "\n",
    "print('File has been saved to -',output_path)"
   ]
  }
 ],
 "metadata": {
  "kernelspec": {
   "display_name": "Python 3 (ipykernel)",
   "language": "python",
   "name": "python3"
  },
  "language_info": {
   "codemirror_mode": {
    "name": "ipython",
    "version": 3
   },
   "file_extension": ".py",
   "mimetype": "text/x-python",
   "name": "python",
   "nbconvert_exporter": "python",
   "pygments_lexer": "ipython3",
   "version": "3.10.5"
  }
 },
 "nbformat": 4,
 "nbformat_minor": 5
}
