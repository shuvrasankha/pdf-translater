{
 "cells": [
  {
   "cell_type": "markdown",
   "id": "90152d9e",
   "metadata": {},
   "source": [
    "### Installing Libraries\n"
   ]
  },
  {
   "cell_type": "code",
   "execution_count": null,
   "id": "f42b6f74",
   "metadata": {},
   "outputs": [],
   "source": [
    "#!pip install progressbar\n",
    "#!pip install googletrans==3.1.0a0\n",
    "#!pip install PyPDF2\n",
    "#!pip install pdfminer\n",
    "#!pip install tqdm"
   ]
  },
  {
   "cell_type": "markdown",
   "id": "5443f4ed",
   "metadata": {},
   "source": [
    "### Importing Libraries"
   ]
  },
  {
   "cell_type": "code",
   "execution_count": null,
   "id": "680c6be8",
   "metadata": {},
   "outputs": [],
   "source": [
    "import os\n",
    "import time\n",
    "import math\n",
    "import googletrans\n",
    "from logging import error, exception\n",
    "from googletrans import Translator\n",
    "from progressbar import ProgressBar\n",
    "from pdfminer.pdfinterp import PDFResourceManager, PDFPageInterpreter\n",
    "from pdfminer.converter import TextConverter\n",
    "from pdfminer.layout import LAParams\n",
    "from pdfminer.pdfpage import PDFPage\n",
    "from io import StringIO\n",
    "from tqdm.notebook import tqdm, trange"
   ]
  },
  {
   "cell_type": "code",
   "execution_count": null,
   "id": "d77ace97",
   "metadata": {},
   "outputs": [],
   "source": [
    "translator = Translator()\n",
    "pbar = ProgressBar()"
   ]
  },
  {
   "cell_type": "code",
   "execution_count": null,
   "id": "679f1317",
   "metadata": {},
   "outputs": [],
   "source": [
    "print('Program has Started 🤓')"
   ]
  },
  {
   "cell_type": "markdown",
   "id": "751a9f56",
   "metadata": {},
   "source": [
    "#### Input File Path"
   ]
  },
  {
   "cell_type": "code",
   "execution_count": null,
   "id": "cb6b2851",
   "metadata": {},
   "outputs": [],
   "source": [
    "try:\n",
    "    input_path = r\"file path\"\n",
    "    print('Input Successful 😀')\n",
    "except Exception as err:\n",
    "    print('Input File pathe is not correct')"
   ]
  },
  {
   "cell_type": "markdown",
   "id": "2d3721ac",
   "metadata": {},
   "source": [
    "#### Reading pdf file and converting to string"
   ]
  },
  {
   "cell_type": "code",
   "execution_count": null,
   "id": "9a246ba7",
   "metadata": {},
   "outputs": [],
   "source": [
    "try:\n",
    "    rsrcmgr = PDFResourceManager()\n",
    "    retstr = StringIO()\n",
    "    codec = 'utf-8'\n",
    "    laparams = LAParams()\n",
    "    device = TextConverter(rsrcmgr, retstr, codec=codec, laparams=laparams)\n",
    "    fp = open(input_path, 'rb')\n",
    "    interpreter = PDFPageInterpreter(rsrcmgr, device)\n",
    "    password = \"\"\n",
    "    maxpages = 0\n",
    "    caching = True\n",
    "    pagenos=set()\n",
    "    \n",
    "    print('Reading pdf -')\n",
    "    for page in tqdm(PDFPage.get_pages(fp, pagenos, maxpages=maxpages, password=password,caching=caching, check_extractable=True)):\n",
    "        time.sleep(0.01)\n",
    "        interpreter.process_page(page)\n",
    "\n",
    "    text = retstr.getvalue()\n",
    "\n",
    "    fp.close()\n",
    "    device.close()\n",
    "    retstr.close()\n",
    "\n",
    "    print('File read successful 👍')\n",
    "\n",
    "except Exception as error:\n",
    "    print('Getting error:', error)\n"
   ]
  },
  {
   "cell_type": "markdown",
   "id": "a229832f",
   "metadata": {},
   "source": [
    "#### Spliting string based on blank lines"
   ]
  },
  {
   "cell_type": "code",
   "execution_count": null,
   "id": "7b618c0e",
   "metadata": {},
   "outputs": [],
   "source": [
    "lines = text.split(\"\\n\\n\")\n",
    "print('Number of lines :',len(lines))"
   ]
  },
  {
   "cell_type": "markdown",
   "id": "8273d45e",
   "metadata": {},
   "source": [
    "#### Doing translation "
   ]
  },
  {
   "cell_type": "code",
   "execution_count": null,
   "id": "cff29ec1",
   "metadata": {},
   "outputs": [],
   "source": [
    "print('List of Languages :\\n')\n",
    "print(googletrans.LANGUAGES)"
   ]
  },
  {
   "cell_type": "code",
   "execution_count": null,
   "id": "949d3c57",
   "metadata": {},
   "outputs": [],
   "source": [
    "trans_lines =[]\n",
    "try:\n",
    "    begin = time.time()\n",
    "    print('Translating : ')\n",
    "    for i in tqdm(range(len(lines))):\n",
    "            time.sleep(0.1)\n",
    "            temp = translator.translate(lines[i], dest='bn')\n",
    "            trans_lines.append(temp.text)\n",
    "\n",
    "    end = time.time()\n",
    "    print('Translation Successful 😁')\n",
    "    print(f'⏱️ Time taken for tanslation is : {math.ceil((end-begin)/60)} minutes')\n",
    "except error:\n",
    "    print('Error while transletting -',error)"
   ]
  },
  {
   "cell_type": "markdown",
   "id": "f0ea137a",
   "metadata": {},
   "source": [
    "#### Joining List"
   ]
  },
  {
   "cell_type": "code",
   "execution_count": null,
   "id": "12ac6c9d",
   "metadata": {},
   "outputs": [],
   "source": [
    "translated_text = ('\\n\\n'.join(trans_lines))"
   ]
  },
  {
   "cell_type": "markdown",
   "id": "4051084b",
   "metadata": {},
   "source": [
    "#### Output Path"
   ]
  },
  {
   "cell_type": "code",
   "execution_count": null,
   "id": "7225b8c5",
   "metadata": {},
   "outputs": [],
   "source": [
    "output_dir = os.path.dirname(input_path) +'\\Output\\\\'\n",
    "if os.path.isdir(output_dir):\n",
    "    pass\n",
    "else:\n",
    "    os.mkdir(output_dir)\n",
    "\n",
    "output_file_name_txt = (os.path.split(input_path)[-1]).replace(\"pdf\", \"txt\")\n",
    "\n",
    "output_path_txt = output_dir + output_file_name_txt\n",
    "\n",
    "print(f'File will be saved here - \\n{output_path_txt}')\n"
   ]
  },
  {
   "cell_type": "markdown",
   "id": "2b499454",
   "metadata": {},
   "source": [
    "#### Saving Translated result as Text File"
   ]
  },
  {
   "cell_type": "code",
   "execution_count": null,
   "id": "abf1657e",
   "metadata": {},
   "outputs": [],
   "source": [
    "try:\n",
    "    with open(output_path, 'w', encoding='utf-8') as f:\n",
    "        f.write(translated_text)\n",
    "\n",
    "    print('File has been saved as text')\n",
    "\n",
    "except Exception as error:\n",
    "    print('Getting error while saving as text :',error)"
   ]
  },
  {
   "cell_type": "code",
   "execution_count": null,
   "id": "bdfa7ade",
   "metadata": {},
   "outputs": [],
   "source": [
    "print('Program has ended ✌️')"
   ]
  }
 ],
 "metadata": {
  "kernelspec": {
   "display_name": "Python 3 (ipykernel)",
   "language": "python",
   "name": "python3"
  },
  "language_info": {
   "codemirror_mode": {
    "name": "ipython",
    "version": 3
   },
   "file_extension": ".py",
   "mimetype": "text/x-python",
   "name": "python",
   "nbconvert_exporter": "python",
   "pygments_lexer": "ipython3",
   "version": "3.10.5"
  }
 },
 "nbformat": 4,
 "nbformat_minor": 5
}
